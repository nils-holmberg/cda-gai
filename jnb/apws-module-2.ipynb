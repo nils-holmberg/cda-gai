{
  "cells": [
    {
      "cell_type": "markdown",
      "metadata": {},
      "source": [
        "---\n",
        "title: \"2: Understand your dataset\"\n",
        "sidebar: modules\n",
        "---\n",
        "\n",
        "- [![Open In Colab](https://colab.research.google.com/assets/colab-badge.svg){width=30%}](https://colab.research.google.com/github/nils-holmberg/cda-gai/blob/main/jnb/apws-module-2.ipynb){target=\"_blank\"}"
      ]
    },
    {
      "cell_type": "code",
      "metadata": {},
      "source": [
        "# Empty code cell with Python comment preceded by hash sign \"# \""
      ],
      "execution_count": null,
      "outputs": []
    },
    {
      "cell_type": "markdown",
      "metadata": {},
      "source": [
        "### Generate a simple Python program\n",
        "\n",
        "**Planned focus:** Line-by-line prime number tester\n",
        "\n",
        "- **Key topics / activities:** Loops, modulo, input/file I/O, simple edge cases\n",
        "- **Example / mini-project:** Test numbers from hardcoded/input/file and label prime/non-prime"
      ]
    },
    {
      "cell_type": "code",
      "metadata": {},
      "source": [
        "# TODO: Implement: Generate a simple Python program for Day 2\n",
        "# Suggested starting hints from schedule:\n",
        "# Title: Line-by-line prime number tester\n",
        "# Key topics / activities: Loops, modulo, input/file I/O, simple edge cases\n",
        "# Example / Mini-project: Test numbers from hardcoded/input/file and label prime/non-prime\n",
        "\n",
        "# Write your code here..."
      ],
      "execution_count": null,
      "outputs": []
    },
    {
      "cell_type": "markdown",
      "metadata": {},
      "source": [
        "### Solve problem in your own work\n",
        "\n",
        "**Planned focus:** Top words & keyword check\n",
        "\n",
        "- **Key topics / activities:** Text cleaning, `Counter`, filtering by length\n",
        "- **Example / mini-project:** From a text file, list 10 most frequent words (>7 chars) and detect a target word"
      ]
    },
    {
      "cell_type": "code",
      "metadata": {},
      "source": [
        "# TODO: Implement: Solve problem in your own work for Day 2\n",
        "# Suggested starting hints from schedule:\n",
        "# Title: Top words & keyword check\n",
        "# Key topics / activities: Text cleaning, `Counter`, filtering by length\n",
        "# Example / Mini-project: From a text file, list 10 most frequent words (>7 chars) and detect a target word\n",
        "\n",
        "# Write your code here..."
      ],
      "execution_count": null,
      "outputs": []
    },
    {
      "cell_type": "markdown",
      "metadata": {},
      "source": [
        "### Perform data science using GenAI\n",
        "\n",
        "**Planned focus:** Explore the penguins dataset\n",
        "\n",
        "- **Key topics / activities:** Data loading from package, describe(), value_counts(), simple plots\n",
        "- **Example / mini-project:** Load a penguins DataFrame and compute basic descriptives"
      ]
    },
    {
      "cell_type": "code",
      "metadata": {},
      "source": [
        "# TODO: Implement: Perform data science using GenAI for Day 2\n",
        "# Suggested starting hints from schedule:\n",
        "# Title: Explore the penguins dataset\n",
        "# Key topics / activities: Data loading from package, describe(), value_counts(), simple plots\n",
        "# Example / Mini-project: Load a penguins DataFrame and compute basic descriptives\n",
        "\n",
        "# Write your code here..."
      ],
      "execution_count": null,
      "outputs": []
    }
  ],
  "metadata": {
    "kernelspec": {
      "name": "python3",
      "language": "python",
      "display_name": "Python 3 (ipykernel)",
      "path": "/home/nilsh/lib/python/uv-osm/share/jupyter/kernels/python3"
    }
  },
  "nbformat": 4,
  "nbformat_minor": 4
}