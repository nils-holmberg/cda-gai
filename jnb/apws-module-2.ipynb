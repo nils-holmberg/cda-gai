{
  "cells": [
    {
      "cell_type": "markdown",
      "metadata": {},
      "source": [
        "---\n",
        "title: \"Module 2\"\n",
        "---\n",
        "\n",
        "# Learn data structures and ingest/clean small datasets via low-code patterns"
      ]
    },
    {
      "cell_type": "code",
      "metadata": {},
      "source": [
        "# Starter cell for Module 2\n",
        "# (Intentionally empty — use this for imports, setup, or scratch work.)"
      ],
      "execution_count": null,
      "outputs": []
    },
    {
      "cell_type": "markdown",
      "metadata": {},
      "source": [
        "### Simple Python Program\n",
        "\n",
        "**Planned focus:** Test if a number is prime\n",
        "\n",
        "- **Key topics / activities:** Loops, modulo, early returns, simple functions\n",
        "- **Example / mini-project:** Reusable `is_prime(n)` with basic tests"
      ]
    },
    {
      "cell_type": "code",
      "metadata": {},
      "source": [
        "# TODO: Implement: Simple Python Program for Day 2\n",
        "# Suggested starting hints from schedule:\n",
        "# Title: Test if a number is prime\n",
        "# Key topics / activities: Loops, modulo, early returns, simple functions\n",
        "# Example / Mini-project: Reusable `is_prime(n)` with basic tests\n",
        "\n",
        "# Write your code here..."
      ],
      "execution_count": null,
      "outputs": []
    },
    {
      "cell_type": "markdown",
      "metadata": {},
      "source": [
        "### Social Science Application Idea\n",
        "\n",
        "**Planned focus:** Import and clean a survey CSV\n",
        "\n",
        "- **Key topics / activities:** Read CSV, drop duplicates, handle missing, export clean CSV\n",
        "- **Example / mini-project:** Clean `survey.csv` → `survey_clean.csv`"
      ]
    },
    {
      "cell_type": "code",
      "metadata": {},
      "source": [
        "# TODO: Implement: Social Science Application Idea for Day 2\n",
        "# Suggested starting hints from schedule:\n",
        "# Title: Import and clean a survey CSV\n",
        "# Key topics / activities: Read CSV, drop duplicates, handle missing, export clean CSV\n",
        "# Example / Mini-project: Clean `survey.csv` → `survey_clean.csv`\n",
        "\n",
        "# Write your code here..."
      ],
      "execution_count": null,
      "outputs": []
    },
    {
      "cell_type": "markdown",
      "metadata": {},
      "source": [
        "### Chatting with Your Data (Tables)\n",
        "\n",
        "**Planned focus:** Conversational queries over tables\n",
        "\n",
        "- **Key topics / activities:** Upload CSV/Excel; ask AI for cleaning & summaries\n",
        "- **Example / mini-project:** “Top 5 categories by count” + basic describe()"
      ]
    },
    {
      "cell_type": "code",
      "metadata": {},
      "source": [
        "# TODO: Implement: Chatting with Your Data (Tables) for Day 2\n",
        "# Suggested starting hints from schedule:\n",
        "# Title: Conversational queries over tables\n",
        "# Key topics / activities: Upload CSV/Excel; ask AI for cleaning & summaries\n",
        "# Example / Mini-project: “Top 5 categories by count” + basic describe()\n",
        "\n",
        "# Write your code here..."
      ],
      "execution_count": null,
      "outputs": []
    }
  ],
  "metadata": {
    "kernelspec": {
      "name": "python3",
      "language": "python",
      "display_name": "Python 3 (ipykernel)",
      "path": "/usr/local/share/jupyter/kernels/python3"
    }
  },
  "nbformat": 4,
  "nbformat_minor": 4
}