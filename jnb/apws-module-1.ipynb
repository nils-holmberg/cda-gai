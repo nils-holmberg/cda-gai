{
  "cells": [
    {
      "cell_type": "markdown",
      "metadata": {},
      "source": [
        "---\n",
        "title: \"1: All programs need data?\"\n",
        "sidebar: modules\n",
        "---\n",
        "\n",
        "- [![Open In Colab](https://colab.research.google.com/assets/colab-badge.svg){width=30%}](https://colab.research.google.com/github/nils-holmberg/cda-gai/blob/main/jnb/apws-module-1.ipynb){target=\"_blank\"}"
      ]
    },
    {
      "cell_type": "code",
      "metadata": {},
      "source": [
        "# Empty code cell with Python comment preceded by hash sign \"# \""
      ],
      "execution_count": null,
      "outputs": []
    },
    {
      "cell_type": "markdown",
      "metadata": {},
      "source": [
        "### Generate a simple Python program\n",
        "\n",
        "**Planned focus:** Line-by-line palindrome checker\n",
        "\n",
        "- **Key topics / activities:** Strings, slicing, input/file I/O, stepwise refinement (hardcoded → input() → file)\n",
        "- **Example / mini-project:** Read a text file and print whether each line is a palindrome"
      ]
    },
    {
      "cell_type": "code",
      "metadata": {},
      "source": [
        "# TODO: Implement: Generate a simple Python program for Day 1\n",
        "# Suggested starting hints from schedule:\n",
        "# Title: Line-by-line palindrome checker\n",
        "# Key topics / activities: Strings, slicing, input/file I/O, stepwise refinement (hardcoded → input() → file)\n",
        "# Example / Mini-project: Read a text file and print whether each line is a palindrome\n",
        "\n",
        "# Write your code here...\n",
        "\n",
        "def palindrome_test(some_string):\n",
        "    \n",
        "    # normalize input string, lowercase\n",
        "    char_list_norm = [i for i in some_string.lower()]\n",
        "    \n",
        "    # reverse normalized string\n",
        "    char_list_back = [i for i in reversed(char_list_norm)]\n",
        "    \n",
        "    # step through character list\n",
        "    for i,x in enumerate(char_list_norm):\n",
        "        \n",
        "        # for each step, compare with reversed list\n",
        "        if char_list_norm[i] == char_list_back[i]:\n",
        "            \n",
        "            # if lists are same, palindrome so far\n",
        "            pali_flag = 0\n",
        "            \n",
        "            # go to next list items\n",
        "            continue\n",
        "        \n",
        "        # list element are different\n",
        "        else:\n",
        "            \n",
        "            # flag palindrome test failed\n",
        "            pali_flag = 1\n",
        "            \n",
        "            # exit list comparison loop\n",
        "            break\n",
        "    \n",
        "    # check the result of string palindrome test\n",
        "    if pali_flag > 0:\n",
        "        \n",
        "        # output message to user\n",
        "        print(some_string, \"palindrome false\")\n",
        "    \n",
        "    # if list comparison completed without flag\n",
        "    else:\n",
        "        \n",
        "        # output message to user\n",
        "        print(some_string, \"palindrome true\")\n",
        "\n",
        "# run function on input strings\n",
        "palindrome_test(\"anna\")\n",
        "\n",
        "#\n",
        "palindrome_test(\"annaa\")"
      ],
      "execution_count": null,
      "outputs": []
    },
    {
      "cell_type": "markdown",
      "metadata": {},
      "source": [
        "### Solve problem in your own work\n",
        "\n",
        "**Planned focus:** Personalized emails from TSV\n",
        "\n",
        "- **Key topics / activities:** File I/O (TSV), f-strings/templates, loops\n",
        "- **Example / mini-project:** Read a name list TSV and generate short personalized mail messages"
      ]
    },
    {
      "cell_type": "code",
      "metadata": {},
      "source": [
        "# TODO: Implement: Solve problem in your own work for Day 1\n",
        "# Suggested starting hints from schedule:\n",
        "# Title: Personalized emails from TSV\n",
        "# Key topics / activities: File I/O (TSV), f-strings/templates, loops\n",
        "# Example / Mini-project: Read a name list TSV and generate short personalized mail messages\n",
        "\n",
        "# Write your code here..."
      ],
      "execution_count": null,
      "outputs": []
    },
    {
      "cell_type": "markdown",
      "metadata": {},
      "source": [
        "### Perform data science using GenAI\n",
        "\n",
        "**Planned focus:** Load real-world data into pandas\n",
        "\n",
        "- **Key topics / activities:** Pandas `read_csv`/`read_table`/`read_excel`, parsing unstructured text\n",
        "- **Example / mini-project:** Load Excel/TSV/text into a single DataFrame and preview/clean columns"
      ]
    },
    {
      "cell_type": "code",
      "metadata": {},
      "source": [
        "# TODO: Implement: Perform data science using GenAI for Day 1\n",
        "# Suggested starting hints from schedule:\n",
        "# Title: Load real-world data into pandas\n",
        "# Key topics / activities: Pandas `read_csv`/`read_table`/`read_excel`, parsing unstructured text\n",
        "# Example / Mini-project: Load Excel/TSV/text into a single DataFrame and preview/clean columns\n",
        "\n",
        "# Write your code here..."
      ],
      "execution_count": null,
      "outputs": []
    }
  ],
  "metadata": {
    "kernelspec": {
      "name": "python3",
      "language": "python",
      "display_name": "Python 3 (ipykernel)",
      "path": "/home/nilsh/lib/python/uv-osm/share/jupyter/kernels/python3"
    }
  },
  "nbformat": 4,
  "nbformat_minor": 4
}