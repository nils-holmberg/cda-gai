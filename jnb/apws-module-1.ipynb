{
  "cells": [
    {
      "cell_type": "markdown",
      "metadata": {},
      "source": [
        "---\n",
        "title: \"1: All coding needs data?\"\n",
        "sidebar: modules\n",
        "---\n",
        "\n",
        "- [![Open In Colab](https://colab.research.google.com/assets/colab-badge.svg){width=30%}](https://colab.research.google.com/github/nils-holmberg/cda-gai/blob/main/jnb/apws-module-1.ipynb){target=\"_blank\"}"
      ]
    },
    {
      "cell_type": "code",
      "metadata": {},
      "source": [
        "# Python comment preceded by hash sign \"# \""
      ],
      "execution_count": null,
      "outputs": []
    },
    {
      "cell_type": "markdown",
      "metadata": {},
      "source": [
        "### Generate a simple Python program\n",
        "\n",
        "**Planned focus:** Line-by-line palindrome checker\n",
        "\n",
        "- **Key topics / activities:** Strings, slicing, input/file I/O, stepwise refinement (hardcoded → input() → file)\n",
        "- **Example / mini-project:** Read a text file and print whether each line is a palindrome"
      ]
    },
    {
      "cell_type": "code",
      "metadata": {},
      "source": [
        "# TODO: Implement: Generate a simple Python program for Day 1\n",
        "# Suggested starting hints from schedule:\n",
        "# Title: Line-by-line palindrome checker\n",
        "# Key topics / activities: Strings, slicing, input/file I/O, stepwise refinement (hardcoded → input() → file)\n",
        "# Example / Mini-project: Read a text file and print whether each line is a palindrome\n",
        "\n",
        "# Write your code here...\n",
        "\n",
        "def palindrome_test(some_string):\n",
        "    \n",
        "    # normalize input string, lowercase\n",
        "    char_list_norm = [i for i in some_string.lower()]\n",
        "    \n",
        "    # reverse normalized string\n",
        "    char_list_back = [i for i in reversed(char_list_norm)]\n",
        "    \n",
        "    # step through character list\n",
        "    for i,x in enumerate(char_list_norm):\n",
        "        \n",
        "        # for each step, compare with reversed list\n",
        "        if char_list_norm[i] == char_list_back[i]:\n",
        "            \n",
        "            # if lists are same, palindrome so far\n",
        "            pali_flag = 0\n",
        "            \n",
        "            # go to next list items\n",
        "            continue\n",
        "        \n",
        "        # list element are different\n",
        "        else:\n",
        "            \n",
        "            # flag palindrome test failed\n",
        "            pali_flag = 1\n",
        "            \n",
        "            # exit list comparison loop\n",
        "            break\n",
        "    \n",
        "    # check the result of string palindrome test\n",
        "    if pali_flag > 0:\n",
        "        \n",
        "        # output message to user\n",
        "        print(some_string, \"palindrome false\")\n",
        "    \n",
        "    # if list comparison completed without flag\n",
        "    else:\n",
        "        \n",
        "        # output message to user\n",
        "        print(some_string, \"palindrome true\")\n",
        "\n",
        "# run function on input strings\n",
        "palindrome_test(\"anna\")\n",
        "\n",
        "# string that will test negative\n",
        "palindrome_test(\"annaa\")"
      ],
      "execution_count": null,
      "outputs": []
    },
    {
      "cell_type": "markdown",
      "metadata": {},
      "source": [
        "### Solve problem in your own work\n",
        "\n",
        "**Planned focus:** Personalized emails from TSV\n",
        "\n",
        "- **Key topics / activities:** File I/O (TSV), f-strings/templates, loops\n",
        "- **Example / mini-project:** Read a name list TSV and generate short personalized mail messages"
      ]
    },
    {
      "cell_type": "code",
      "metadata": {},
      "source": [
        "# TODO: Implement: Solve problem in your own work for Day 1\n",
        "# Suggested starting hints from schedule:\n",
        "# Title: Personalized emails from TSV\n",
        "# Key topics / activities: File I/O (TSV), f-strings/templates, loops\n",
        "# Example / Mini-project: Read a name list TSV and generate short personalized mail messages\n",
        "\n",
        "# Write your code here..."
      ],
      "execution_count": null,
      "outputs": []
    },
    {
      "cell_type": "markdown",
      "metadata": {},
      "source": [
        "### Perform data science using GenAI\n",
        "\n",
        "**Planned focus:** Load real-world data into pandas\n",
        "\n",
        "- **Key topics / activities:** Pandas `read_csv`/`read_table`/`read_excel`, parsing unstructured text\n",
        "- **Example / mini-project:** Load Excel/TSV/text into a single DataFrame and preview/clean columns"
      ]
    },
    {
      "cell_type": "code",
      "metadata": {},
      "source": [
        "#| eval: false\n",
        "\n",
        "# download data from github\n",
        "!git clone https://github.com/nils-holmberg/cda-gai.git"
      ],
      "execution_count": null,
      "outputs": []
    },
    {
      "cell_type": "code",
      "metadata": {},
      "source": [
        "# TODO: Implement: Perform data science using GenAI for Day 1\n",
        "# Suggested starting hints from schedule:\n",
        "# Title: Load real-world data into pandas\n",
        "# Key topics / activities: Pandas `read_csv`/`read_table`/`read_excel`, parsing unstructured text\n",
        "# Example / Mini-project: Load Excel/TSV/text into a single DataFrame and preview/clean columns\n",
        "\n",
        "# Write your code here..."
      ],
      "execution_count": null,
      "outputs": []
    },
    {
      "cell_type": "markdown",
      "metadata": {},
      "source": [
        "### Python syntax reference"
      ]
    },
    {
      "cell_type": "code",
      "metadata": {},
      "source": [
        "# Python comment preceded by hash sign \"# \"\n",
        "\n",
        "# --- Data Types ---\n",
        "\n",
        "# Integer\n",
        "my_integer = 10\n",
        "print(f\"Integer: {my_integer}\") # Print the integer value\n",
        "\n",
        "# Float\n",
        "my_float = 3.14\n",
        "print(f\"Float: {my_float}\") # Print the float value\n",
        "\n",
        "# String\n",
        "my_string = \"Hello, Python!\"\n",
        "print(f\"String: {my_string}\") # Print the string value\n",
        "\n",
        "# Boolean\n",
        "my_boolean_true = True\n",
        "my_boolean_false = False\n",
        "print(f\"Boolean (True): {my_boolean_true}\") # Print the boolean True value\n",
        "print(f\"Boolean (False): {my_boolean_false}\") # Print the boolean False value\n",
        "\n",
        "# List (ordered, mutable collection)\n",
        "my_list = [1, 2, 3, \"four\", 5.0]\n",
        "print(f\"List: {my_list}\") # Print the list\n",
        "print(f\"First element of list: {my_list[0]}\") # Access an element by index\n",
        "\n",
        "# Tuple (ordered, immutable collection)\n",
        "my_tuple = (10, 20, 30)\n",
        "print(f\"Tuple: {my_tuple}\") # Print the tuple\n",
        "print(f\"Second element of tuple: {my_tuple[1]}\") # Access an element by index\n",
        "\n",
        "# Dictionary (unordered, mutable key-value pairs)\n",
        "my_dict = {\"name\": \"Alice\", \"age\": 30, \"city\": \"New York\"}\n",
        "print(f\"Dictionary: {my_dict}\") # Print the dictionary\n",
        "print(f\"Value for key 'name': {my_dict['name']}\") # Access a value by key\n",
        "\n",
        "# Set (unordered, mutable collection of unique elements)\n",
        "my_set = {1, 2, 2, 3, 4, 4, 5}\n",
        "print(f\"Set: {my_set}\") # Print the set (duplicates are removed)\n",
        "\n",
        "# --- Control Structures ---\n",
        "\n",
        "# If-Elif-Else statement\n",
        "x = 15\n",
        "if x > 20:\n",
        "    print(\"x is greater than 20\") # This block executes if the condition is true\n",
        "elif x > 10:\n",
        "    print(\"x is greater than 10 but not greater than 20\") # This block executes if the previous condition is false and this one is true\n",
        "else:\n",
        "    print(\"x is 10 or less\") # This block executes if none of the above conditions are true\n",
        "\n",
        "# --- Loops ---\n",
        "\n",
        "# For loop (iterating over a sequence)\n",
        "print(\"\\nFor loop through list:\")\n",
        "for item in my_list:\n",
        "    print(item) # Print each item in the list\n",
        "\n",
        "# For loop with range (iterating a specific number of times)\n",
        "print(\"\\nFor loop with range:\")\n",
        "for i in range(5):\n",
        "    print(i) # Print numbers from 0 to 4\n",
        "\n",
        "# While loop (executing as long as a condition is true)\n",
        "print(\"\\nWhile loop:\")\n",
        "count = 0\n",
        "while count < 3:\n",
        "    print(f\"Count: {count}\") # Print the current count\n",
        "    count += 1 # Increment the count"
      ],
      "execution_count": null,
      "outputs": []
    }
  ],
  "metadata": {
    "kernelspec": {
      "name": "python3",
      "language": "python",
      "display_name": "Python 3 (ipykernel)",
      "path": "/home/nilsh/lib/python/uv-osm/share/jupyter/kernels/python3"
    }
  },
  "nbformat": 4,
  "nbformat_minor": 4
}