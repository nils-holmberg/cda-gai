{
  "cells": [
    {
      "cell_type": "markdown",
      "metadata": {},
      "source": [
        "---\n",
        "title: \"Module 4\"\n",
        "---\n",
        "\n",
        "# Tell data stories with basic charts (Matplotlib/Plotly)\n",
        "### Simple Python Program\n",
        "\n",
        "**Planned focus:** Compute Fibonacci up to N\n",
        "\n",
        "- **Key topics / activities:** Lists, loops, function returns\n",
        "- **Example / mini-project:** Simple sequence generator and print"
      ]
    },
    {
      "cell_type": "code",
      "metadata": {},
      "source": [
        "# TODO: Implement: Simple Python Program for Day 4\n",
        "# Suggested starting hints from schedule:\n",
        "# Title: Compute Fibonacci up to N\n",
        "# Key topics / activities: Lists, loops, function returns\n",
        "# Example / Mini-project: Simple sequence generator and print\n",
        "\n",
        "# Write your code here..."
      ],
      "execution_count": null,
      "outputs": []
    },
    {
      "cell_type": "markdown",
      "metadata": {},
      "source": [
        "### Social Science Application Idea\n",
        "\n",
        "**Planned focus:** Plot survey results over time\n",
        "\n",
        "- **Key topics / activities:** Data grouping, aggregations, export figures\n",
        "- **Example / mini-project:** Bar/line chart of response counts by month"
      ]
    },
    {
      "cell_type": "code",
      "metadata": {},
      "source": [
        "# TODO: Implement: Social Science Application Idea for Day 4\n",
        "# Suggested starting hints from schedule:\n",
        "# Title: Plot survey results over time\n",
        "# Key topics / activities: Data grouping, aggregations, export figures\n",
        "# Example / Mini-project: Bar/line chart of response counts by month\n",
        "\n",
        "# Write your code here..."
      ],
      "execution_count": null,
      "outputs": []
    },
    {
      "cell_type": "markdown",
      "metadata": {},
      "source": [
        "### Chatting with Your Data (Graphs)\n",
        "\n",
        "**Planned focus:** Prompt-to-plot workflow\n",
        "\n",
        "- **Key topics / activities:** Create chart via natural language; customize labels\n",
        "- **Example / mini-project:** Auto-generated bar chart with titles/axes saved as PNG"
      ]
    },
    {
      "cell_type": "code",
      "metadata": {},
      "source": [
        "# TODO: Implement: Chatting with Your Data (Graphs) for Day 4\n",
        "# Suggested starting hints from schedule:\n",
        "# Title: Prompt-to-plot workflow\n",
        "# Key topics / activities: Create chart via natural language; customize labels\n",
        "# Example / Mini-project: Auto-generated bar chart with titles/axes saved as PNG\n",
        "\n",
        "# Write your code here..."
      ],
      "execution_count": null,
      "outputs": []
    }
  ],
  "metadata": {
    "kernelspec": {
      "name": "python3",
      "language": "python",
      "display_name": "Python 3 (ipykernel)",
      "path": "/usr/local/share/jupyter/kernels/python3"
    }
  },
  "nbformat": 4,
  "nbformat_minor": 4
}