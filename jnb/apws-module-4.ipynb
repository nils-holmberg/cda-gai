{
  "cells": [
    {
      "cell_type": "markdown",
      "metadata": {},
      "source": [
        "---\n",
        "title: \"4: Humans need data summary\"\n",
        "sidebar: modules\n",
        "---\n",
        "\n",
        "- [![Open In Colab](https://colab.research.google.com/assets/colab-badge.svg){width=30%}](https://colab.research.google.com/github/nils-holmberg/cda-gai/blob/main/jnb/apws-module-4.ipynb){target=\"_blank\"}"
      ]
    },
    {
      "cell_type": "code",
      "metadata": {},
      "source": [
        "#| eval: false\n",
        "\n",
        "# Lets recapitulate module 3: transforming data! Try some of the following:\n",
        "\n",
        "# 1. load the penguins dataframe, descriptives, histogram\n",
        "\n",
        "# 2. perform median split on flipper length\n",
        "\n",
        "# 3. observe group sizes and explain differences\n",
        "\n",
        "# 4. relate median split to other variables (summary)\n",
        "\n",
        "# 5. analyze strength of associations (summary)\n",
        "\n",
        "# 6. model many-to-many relationships, merging dataframes"
      ],
      "execution_count": null,
      "outputs": []
    },
    {
      "cell_type": "markdown",
      "metadata": {},
      "source": [
        "### Generate a simple Python program\n",
        "\n",
        "**Planned focus:** Date differences with holidays & weeks\n",
        "\n",
        "- **Key topics / activities:** `datetime` arithmetic, Swedish holidays count, full-weeks calc\n",
        "- **Example / mini-project:** Input two dates; output days between, #Swedish holidays, #full weeks"
      ]
    },
    {
      "cell_type": "code",
      "metadata": {},
      "source": [
        "# TODO: Implement: Generate a simple Python program for Day 4\n",
        "# Suggested starting hints from schedule:\n",
        "# Title: Date differences with holidays & weeks\n",
        "# Key topics / activities: `datetime` arithmetic, Swedish holidays count, full-weeks calc\n",
        "# Example / Mini-project: Input two dates; output days between, #Swedish holidays, #full weeks\n",
        "\n",
        "# Write your code here..."
      ],
      "execution_count": null,
      "outputs": []
    },
    {
      "cell_type": "markdown",
      "metadata": {},
      "source": [
        "### Solve problem in your own work\n",
        "\n",
        "**Planned focus:** Group summaries with SEM\n",
        "\n",
        "- **Key topics / activities:** Groupby aggregations: count, mean, std, SEM\n",
        "- **Example / mini-project:** From TSV with 3-level categorical + numeric, compute grouped stats (count/mean/std/SEM)"
      ]
    },
    {
      "cell_type": "code",
      "metadata": {},
      "source": [
        "# TODO: Implement: Solve problem in your own work for Day 4\n",
        "# Suggested starting hints from schedule:\n",
        "# Title: Group summaries with SEM\n",
        "# Key topics / activities: Groupby aggregations: count, mean, std, SEM\n",
        "# Example / Mini-project: From TSV with 3-level categorical + numeric, compute grouped stats (count/mean/std/SEM)\n",
        "\n",
        "# Write your code here..."
      ],
      "execution_count": null,
      "outputs": []
    },
    {
      "cell_type": "markdown",
      "metadata": {},
      "source": [
        "### Perform data science using GenAI\n",
        "\n",
        "**Planned focus:** Summary table by factor on penguins\n",
        "\n",
        "- **Key topics / activities:** Groupby on categorical IV, numeric DV; formatted table\n",
        "- **Example / mini-project:** Aggregate a numeric DV by a categorical IV and render a neat summary table"
      ]
    },
    {
      "cell_type": "code",
      "metadata": {},
      "source": [
        "# TODO: Implement: Perform data science using GenAI for Day 4\n",
        "# Suggested starting hints from schedule:\n",
        "# Title: Summary table by factor on penguins\n",
        "# Key topics / activities: Groupby on categorical IV, numeric DV; formatted table\n",
        "# Example / Mini-project: Aggregate a numeric DV by a categorical IV and render a neat summary table\n",
        "\n",
        "# Write your code here..."
      ],
      "execution_count": null,
      "outputs": []
    }
  ],
  "metadata": {
    "kernelspec": {
      "name": "python3",
      "language": "python",
      "display_name": "Python 3 (ipykernel)",
      "path": "/home/nilsh/lib/python/uv-osm/share/jupyter/kernels/python3"
    }
  },
  "nbformat": 4,
  "nbformat_minor": 4
}