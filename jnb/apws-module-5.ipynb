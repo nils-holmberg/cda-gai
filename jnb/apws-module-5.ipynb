{
  "cells": [
    {
      "cell_type": "markdown",
      "metadata": {},
      "source": [
        "---\n",
        "title: \"5: Seeing (data) is believing\"\n",
        "sidebar: modules\n",
        "---\n",
        "\n",
        "- [![Open In Colab](https://colab.research.google.com/assets/colab-badge.svg){width=30%}](https://colab.research.google.com/github/nils-holmberg/cda-gai/blob/main/jnb/apws-module-5.ipynb){target=\"_blank\"}"
      ]
    },
    {
      "cell_type": "code",
      "metadata": {},
      "source": [
        "# Empty code cell with Python comment preceded by hash sign \"# \""
      ],
      "execution_count": null,
      "outputs": []
    },
    {
      "cell_type": "markdown",
      "metadata": {},
      "source": [
        "### Generate a simple Python program\n",
        "\n",
        "**Planned focus:** Draw a circle with NumPy and save PNG\n",
        "\n",
        "- **Key topics / activities:** NumPy arrays as images, basic image I/O\n",
        "- **Example / mini-project:** Create 100×100 image: green background with white circle; save as PNG"
      ]
    },
    {
      "cell_type": "code",
      "metadata": {},
      "source": [
        "# TODO: Implement: Generate a simple Python program for Day 5\n",
        "# Suggested starting hints from schedule:\n",
        "# Title: Draw a circle with NumPy and save PNG\n",
        "# Key topics / activities: NumPy arrays as images, basic image I/O\n",
        "# Example / Mini-project: Create 100×100 image: green background with white circle; save as PNG\n",
        "\n",
        "# Write your code here..."
      ],
      "execution_count": null,
      "outputs": []
    },
    {
      "cell_type": "markdown",
      "metadata": {},
      "source": [
        "### Solve problem in your own work\n",
        "\n",
        "**Planned focus:** Simulate an interaction & visualize\n",
        "\n",
        "- **Key topics / activities:** Bivariate median splits, data simulation, error bars\n",
        "- **Example / mini-project:** Generate data showing A×B interaction and plot grouped bars with error bars"
      ]
    },
    {
      "cell_type": "code",
      "metadata": {},
      "source": [
        "# TODO: Implement: Solve problem in your own work for Day 5\n",
        "# Suggested starting hints from schedule:\n",
        "# Title: Simulate an interaction & visualize\n",
        "# Key topics / activities: Bivariate median splits, data simulation, error bars\n",
        "# Example / Mini-project: Generate data showing A×B interaction and plot grouped bars with error bars\n",
        "\n",
        "# Write your code here..."
      ],
      "execution_count": null,
      "outputs": []
    },
    {
      "cell_type": "markdown",
      "metadata": {},
      "source": [
        "### Perform data science using GenAI\n",
        "\n",
        "**Planned focus:** Median split & cleanup on penguins (viz-ready)\n",
        "\n",
        "- **Key topics / activities:** Recode by median, drop NAs, prep for plotting\n",
        "- **Example / mini-project:** Recreate median-split categorical variable and export a clean, plot-ready table"
      ]
    },
    {
      "cell_type": "code",
      "metadata": {},
      "source": [
        "# TODO: Implement: Perform data science using GenAI for Day 5\n",
        "# Suggested starting hints from schedule:\n",
        "# Title: Median split & cleanup on penguins (viz-ready)\n",
        "# Key topics / activities: Recode by median, drop NAs, prep for plotting\n",
        "# Example / Mini-project: Recreate median-split categorical variable and export a clean, plot-ready table\n",
        "\n",
        "# Write your code here..."
      ],
      "execution_count": null,
      "outputs": []
    }
  ],
  "metadata": {
    "kernelspec": {
      "name": "python3",
      "language": "python",
      "display_name": "Python 3 (ipykernel)",
      "path": "/home/nilsh/lib/python/uv-osm/share/jupyter/kernels/python3"
    }
  },
  "nbformat": 4,
  "nbformat_minor": 4
}