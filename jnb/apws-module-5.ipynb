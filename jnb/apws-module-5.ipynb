{
  "cells": [
    {
      "cell_type": "markdown",
      "metadata": {},
      "source": [
        "---\n",
        "title: \"Module 5\"\n",
        "---\n",
        "\n",
        "# Integrate skills into a small end-to-end project\n",
        "### Simple Python Program\n",
        "\n",
        "**Planned focus:** Average & median from a list\n",
        "\n",
        "- **Key topics / activities:** Lists, built-ins, simple stats\n",
        "- **Example / mini-project:** `mean/median` on example list + edge cases"
      ]
    },
    {
      "cell_type": "code",
      "metadata": {},
      "source": [
        "# TODO: Implement: Simple Python Program for Day 5\n",
        "# Suggested starting hints from schedule:\n",
        "# Title: Average & median from a list\n",
        "# Key topics / activities: Lists, built-ins, simple stats\n",
        "# Example / Mini-project: `mean/median` on example list + edge cases\n",
        "\n",
        "# Write your code here..."
      ],
      "execution_count": null,
      "outputs": []
    },
    {
      "cell_type": "markdown",
      "metadata": {},
      "source": [
        "### Social Science Application Idea\n",
        "\n",
        "**Planned focus:** Mini “data chatbot” ideation\n",
        "\n",
        "- **Key topics / activities:** Choose dataset; plan load→clean→analyze→viz\n",
        "- **Example / mini-project:** Teams sketch prompts + steps for their dataset"
      ]
    },
    {
      "cell_type": "code",
      "metadata": {},
      "source": [
        "# TODO: Implement: Social Science Application Idea for Day 5\n",
        "# Suggested starting hints from schedule:\n",
        "# Title: Mini “data chatbot” ideation\n",
        "# Key topics / activities: Choose dataset; plan load→clean→analyze→viz\n",
        "# Example / Mini-project: Teams sketch prompts + steps for their dataset\n",
        "\n",
        "# Write your code here..."
      ],
      "execution_count": null,
      "outputs": []
    },
    {
      "cell_type": "markdown",
      "metadata": {},
      "source": [
        "### Chatting with Your Data (Showcase)\n",
        "\n",
        "**Planned focus:** Project demos & next steps\n",
        "\n",
        "- **Key topics / activities:** Run notebooks; reflect on workflow; next resources\n",
        "- **Example / mini-project:** Short presentations + exported tables/plots"
      ]
    },
    {
      "cell_type": "code",
      "metadata": {},
      "source": [
        "# TODO: Implement: Chatting with Your Data (Showcase) for Day 5\n",
        "# Suggested starting hints from schedule:\n",
        "# Title: Project demos & next steps\n",
        "# Key topics / activities: Run notebooks; reflect on workflow; next resources\n",
        "# Example / Mini-project: Short presentations + exported tables/plots\n",
        "\n",
        "# Write your code here..."
      ],
      "execution_count": null,
      "outputs": []
    }
  ],
  "metadata": {
    "kernelspec": {
      "name": "python3",
      "language": "python",
      "display_name": "Python 3 (ipykernel)",
      "path": "/usr/local/share/jupyter/kernels/python3"
    }
  },
  "nbformat": 4,
  "nbformat_minor": 4
}