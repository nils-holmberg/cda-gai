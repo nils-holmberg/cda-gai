{
  "cells": [
    {
      "cell_type": "markdown",
      "metadata": {},
      "source": [
        "---\n",
        "title: \"Module 3\"\n",
        "---\n",
        "\n",
        "# Automate common research data collection/prep tasks"
      ]
    },
    {
      "cell_type": "code",
      "metadata": {},
      "source": [
        "# Starter cell for Module 3\n",
        "# (Intentionally empty — use this for imports, setup, or scratch work.)"
      ],
      "execution_count": null,
      "outputs": []
    },
    {
      "cell_type": "markdown",
      "metadata": {},
      "source": [
        "### Simple Python Program\n",
        "\n",
        "**Planned focus:** Generate a random password\n",
        "\n",
        "- **Key topics / activities:** Strings, randomness, loops, parameterization\n",
        "- **Example / mini-project:** Password with letters/digits; length argument"
      ]
    },
    {
      "cell_type": "code",
      "metadata": {},
      "source": [
        "# TODO: Implement: Simple Python Program for Day 3\n",
        "# Suggested starting hints from schedule:\n",
        "# Title: Generate a random password\n",
        "# Key topics / activities: Strings, randomness, loops, parameterization\n",
        "# Example / Mini-project: Password with letters/digits; length argument\n",
        "\n",
        "# Write your code here..."
      ],
      "execution_count": null,
      "outputs": []
    },
    {
      "cell_type": "markdown",
      "metadata": {},
      "source": [
        "### Social Science Application Idea\n",
        "\n",
        "**Planned focus:** Lightweight web scraping for text\n",
        "\n",
        "- **Key topics / activities:** Requests/BeautifulSoup (guided by AI); save to CSV\n",
        "- **Example / mini-project:** Scrape headlines and timestamps into `news.csv`"
      ]
    },
    {
      "cell_type": "code",
      "metadata": {},
      "source": [
        "# TODO: Implement: Social Science Application Idea for Day 3\n",
        "# Suggested starting hints from schedule:\n",
        "# Title: Lightweight web scraping for text\n",
        "# Key topics / activities: Requests/BeautifulSoup (guided by AI); save to CSV\n",
        "# Example / Mini-project: Scrape headlines and timestamps into `news.csv`\n",
        "\n",
        "# Write your code here..."
      ],
      "execution_count": null,
      "outputs": []
    },
    {
      "cell_type": "markdown",
      "metadata": {},
      "source": [
        "### Chatting with Your Data (Text)\n",
        "\n",
        "**Planned focus:** AI-assisted text analysis\n",
        "\n",
        "- **Key topics / activities:** Tokenization, keywords, quick sentiment\n",
        "- **Example / mini-project:** “Most common terms in a policy document”"
      ]
    },
    {
      "cell_type": "code",
      "metadata": {},
      "source": [
        "# TODO: Implement: Chatting with Your Data (Text) for Day 3\n",
        "# Suggested starting hints from schedule:\n",
        "# Title: AI-assisted text analysis\n",
        "# Key topics / activities: Tokenization, keywords, quick sentiment\n",
        "# Example / Mini-project: “Most common terms in a policy document”\n",
        "\n",
        "# Write your code here..."
      ],
      "execution_count": null,
      "outputs": []
    }
  ],
  "metadata": {
    "kernelspec": {
      "name": "python3",
      "language": "python",
      "display_name": "Python 3 (ipykernel)",
      "path": "/usr/local/share/jupyter/kernels/python3"
    }
  },
  "nbformat": 4,
  "nbformat_minor": 4
}