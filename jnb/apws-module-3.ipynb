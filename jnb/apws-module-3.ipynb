{
  "cells": [
    {
      "cell_type": "markdown",
      "metadata": {},
      "source": [
        "---\n",
        "title: \"3: Data transformations!!\"\n",
        "sidebar: modules\n",
        "---\n",
        "\n",
        "### Generate a simple Python program\n",
        "\n",
        "**Planned focus:** Normalize a list to 0–1 and compare\n",
        "\n",
        "- **Key topics / activities:** Min–max scaling, lists → DataFrame, two-column output\n",
        "- **Example / mini-project:** Create a two-column DataFrame: original vs normalized values"
      ]
    },
    {
      "cell_type": "code",
      "metadata": {},
      "source": [
        "# TODO: Implement: Generate a simple Python program for Day 3\n",
        "# Suggested starting hints from schedule:\n",
        "# Title: Normalize a list to 0–1 and compare\n",
        "# Key topics / activities: Min–max scaling, lists → DataFrame, two-column output\n",
        "# Example / Mini-project: Create a two-column DataFrame: original vs normalized values\n",
        "\n",
        "# Write your code here..."
      ],
      "execution_count": null,
      "outputs": []
    },
    {
      "cell_type": "markdown",
      "metadata": {},
      "source": [
        "### Solve problem in your own work\n",
        "\n",
        "**Planned focus:** Anonymize & categorize respondents\n",
        "\n",
        "- **Key topics / activities:** Regex for names, age binning into 3 groups\n",
        "- **Example / mini-project:** Read TSV (first,last,age,preference), anonymize IDs, add 3 age categories"
      ]
    },
    {
      "cell_type": "code",
      "metadata": {},
      "source": [
        "# TODO: Implement: Solve problem in your own work for Day 3\n",
        "# Suggested starting hints from schedule:\n",
        "# Title: Anonymize & categorize respondents\n",
        "# Key topics / activities: Regex for names, age binning into 3 groups\n",
        "# Example / Mini-project: Read TSV (first,last,age,preference), anonymize IDs, add 3 age categories\n",
        "\n",
        "# Write your code here..."
      ],
      "execution_count": null,
      "outputs": []
    },
    {
      "cell_type": "markdown",
      "metadata": {},
      "source": [
        "### Perform data science using GenAI\n",
        "\n",
        "**Planned focus:** Median split & missing-value handling on penguins\n",
        "\n",
        "- **Key topics / activities:** Recode numeric → categorical (median), drop NAs\n",
        "- **Example / mini-project:** Recode a numeric variable by median split; remove missing values"
      ]
    },
    {
      "cell_type": "code",
      "metadata": {},
      "source": [
        "# TODO: Implement: Perform data science using GenAI for Day 3\n",
        "# Suggested starting hints from schedule:\n",
        "# Title: Median split & missing-value handling on penguins\n",
        "# Key topics / activities: Recode numeric → categorical (median), drop NAs\n",
        "# Example / Mini-project: Recode a numeric variable by median split; remove missing values\n",
        "\n",
        "# Write your code here..."
      ],
      "execution_count": null,
      "outputs": []
    }
  ],
  "metadata": {
    "kernelspec": {
      "name": "python3",
      "language": "python",
      "display_name": "Python 3 (ipykernel)",
      "path": "/home/nilsh/lib/python/uv-osm/share/jupyter/kernels/python3"
    }
  },
  "nbformat": 4,
  "nbformat_minor": 4
}