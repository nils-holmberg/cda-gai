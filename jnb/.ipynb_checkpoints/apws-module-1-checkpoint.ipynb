{
  "cells": [
    {
      "cell_type": "markdown",
      "metadata": {},
      "source": [
        "---\n",
        "title: \"Module 1\"\n",
        "---\n",
        "\n",
        "# Get comfortable with Python syntax and Google Colab basics\n",
        "### Simple Python Program\n",
        "\n",
        "**Planned focus:** Test if a string is a palindrome\n",
        "\n",
        "- **Key topics / activities:** Variables, strings, conditionals, printing\n",
        "- **Example / mini-project:** Function that returns True/False for palindrome"
      ]
    },
    {
      "cell_type": "code",
      "metadata": {},
      "source": [
        "# TODO: Implement: Simple Python Program for Day 1\n",
        "# Suggested starting hints from schedule:\n",
        "# Title: Test if a string is a palindrome\n",
        "# Key topics / activities: Variables, strings, conditionals, printing\n",
        "# Example / Mini-project: Function that returns True/False for palindrome\n",
        "\n",
        "# Write your code here..."
      ],
      "execution_count": null,
      "outputs": []
    },
    {
      "cell_type": "markdown",
      "metadata": {},
      "source": [
        "### Social Science Application Idea\n",
        "\n",
        "**Planned focus:** Counting words in a transcript\n",
        "\n",
        "- **Key topics / activities:** Brainstorm repetitive academic tasks; file I/O; basic text ops\n",
        "- **Example / mini-project:** Load a .txt interview, count words, save a summary"
      ]
    },
    {
      "cell_type": "code",
      "metadata": {},
      "source": [
        "# TODO: Implement: Social Science Application Idea for Day 1\n",
        "# Suggested starting hints from schedule:\n",
        "# Title: Counting words in a transcript\n",
        "# Key topics / activities: Brainstorm repetitive academic tasks; file I/O; basic text ops\n",
        "# Example / Mini-project: Load a .txt interview, count words, save a summary\n",
        "\n",
        "# Write your code here..."
      ],
      "execution_count": null,
      "outputs": []
    },
    {
      "cell_type": "markdown",
      "metadata": {},
      "source": [
        "### Chatting with Your Data (Intro)\n",
        "\n",
        "**Planned focus:** Set up Colab + AI assistant\n",
        "\n",
        "- **Key topics / activities:** Install/load helpers; prompt-to-code generation\n",
        "- **Example / mini-project:** “Make a table from survey results and sort by age”"
      ]
    },
    {
      "cell_type": "code",
      "metadata": {},
      "source": [
        "# TODO: Implement: Chatting with Your Data (Intro) for Day 1\n",
        "# Suggested starting hints from schedule:\n",
        "# Title: Set up Colab + AI assistant\n",
        "# Key topics / activities: Install/load helpers; prompt-to-code generation\n",
        "# Example / Mini-project: “Make a table from survey results and sort by age”\n",
        "\n",
        "# Write your code here..."
      ],
      "execution_count": null,
      "outputs": []
    }
  ],
  "metadata": {
    "kernelspec": {
      "name": "python3",
      "language": "python",
      "display_name": "Python 3 (ipykernel)",
      "path": "/usr/local/share/jupyter/kernels/python3"
    }
  },
  "nbformat": 4,
  "nbformat_minor": 4
}